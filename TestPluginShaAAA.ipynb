{
 "cells": [
  {
   "cell_type": "code",
   "execution_count": null,
   "id": "189b73e3-527f-4671-aa35-aab9a4015450",
   "metadata": {
    "editable": false
   },
   "outputs": [],
   "source": [
    "# This cell is NOT editable. Overwrite variables on your own discretion.\n",
    "# Any changes other than the script code will NOT BE SAVED!\n",
    "# All cells are assumed to be script code cells, unless explictly tagged as 'o9_ignore'"
   ]
  },
  {
   "cell_type": "code",
   "execution_count": 5,
   "id": "a5720e99-df14-44a2-92dc-a73763072d70",
   "metadata": {},
   "outputs": [],
   "source": [
    "_sales = \"select ([WalmartTime].[Day] * [Version].[Version Name].[CurrentWorkingView]  * [Department].[Department_ID].[1] * [Store].[Store_ID] * {Measure.[Weekly Sales]}  );\"\n",
    "\n",
    "\n",
    "# Initialize the O9DataLake with the input parameters and dataframes\n",
    "# Data can be accessed with O9DataLake.get(<Input Name>)\n",
    "# Overwritten values will not be reflected in the O9DataLake after initialization\n",
    "\n",
    "from o9_common_utils.O9DataLake import O9DataLake, ResourceType, DataSource\n",
    "O9DataLake.register(\"sales\",DataSource.LS, ResourceType.IBPL, _sales)"
   ]
  },
  {
   "cell_type": "code",
   "execution_count": 6,
   "id": "bd4f57b6-9152-47fb-8a01-ac2d6a1eebc1",
   "metadata": {},
   "outputs": [
    {
     "name": "stdout",
     "output_type": "stream",
     "text": [
      "2022-09-23 14:46:17,735 : shashankchavan_5502 :WMLogger: Reading Input Dataframes\n",
      "2022-09-23 14:46:17,737 : shashankchavan_5502 :IbplClient: WebApi Request Url = [https://mygenieazure.o9solutions.com/api/ibplquery/5502/ExecuteCompactJsonQuery]\n",
      "2022-09-23 14:46:18,287 : shashankchavan_5502 :Sales:\n",
      "2022-09-23 14:46:18,289 : shashankchavan_5502 :  WalmartTime.[Day] Version.[Version Name] Department.[Department_ID]  \\\n",
      "0        02-05-2010     CurrentWorkingView                          1   \n",
      "1        02-05-2010     CurrentWorkingView                          1   \n",
      "2        02-05-2010     CurrentWorkingView                          1   \n",
      "3        02-05-2010     CurrentWorkingView                          1   \n",
      "4        02-05-2010     CurrentWorkingView                          1   \n",
      "\n",
      "  Store.[Store_ID]  Weekly Sales  \n",
      "0                1  24924.500000  \n",
      "1               10  40212.839844  \n",
      "2               11  19611.130859  \n",
      "3               12  17426.750000  \n",
      "4               13  46761.898438  \n",
      "2022-09-23 14:46:18,300 : shashankchavan_5502 :Output:\n",
      "2022-09-23 14:46:18,301 : shashankchavan_5502 :  WalmartTime.[Day] Version.[Version Name] Department.[Department_ID]  \\\n",
      "0        02-05-2010     CurrentWorkingView                          1   \n",
      "1        02-05-2010     CurrentWorkingView                          1   \n",
      "2        02-05-2010     CurrentWorkingView                          1   \n",
      "3        02-05-2010     CurrentWorkingView                          1   \n",
      "4        02-05-2010     CurrentWorkingView                          1   \n",
      "\n",
      "  Store.[Store_ID]  Weekly Sales  PredictedSales  \n",
      "0                1  24924.500000             0.0  \n",
      "1               10  40212.839844             0.0  \n",
      "2               11  19611.130859             0.0  \n",
      "3               12  17426.750000             0.0  \n",
      "4               13  46761.898438             0.0  \n",
      "2022-09-23 14:46:18,308 : shashankchavan_5502 :WMLogger: Finishing Plugin Execution\n"
     ]
    }
   ],
   "source": [
    "import os\n",
    "import numpy as np\n",
    "import pandas as pd \n",
    "import logging\n",
    "from o9_common_utils.O9DataLake import O9DataLake\n",
    "# Initializing logger\n",
    "\n",
    "logger = logging.getLogger('o9_logger')\n",
    "logger.info(\"WMLogger: Reading Input Dataframes\")\n",
    "\n",
    "\n",
    "sales_df = O9DataLake.get('sales')\n",
    "\n",
    "logger.info(\"Sales:\")\n",
    "logger.info(sales_df.head())\n",
    "\n",
    "sales_df[\"PredictedSales\"] = np.arange(sales_df.shape[0])\n",
    "\n",
    "output = sales_df.copy(deep=True)\n",
    "output[\"PredictedSales\"] = 0\n",
    "\n",
    "output = output.astype({'PredictedSales':'float64'})\n",
    "\n",
    "logger.info(\"Output:\")\n",
    "logger.info(output.head())\n",
    "O9DataLake.put(\"output\", output)\n",
    "\n",
    "logging.info(\"WMLogger: Finishing Plugin Execution\")"
   ]
  },
  {
   "cell_type": "code",
   "execution_count": 7,
   "id": "2f3f6f41-323f-4a51-94a8-de4259ba0aba",
   "metadata": {
    "tags": [
     "o9_ignore"
    ]
   },
   "outputs": [
    {
     "name": "stdout",
     "output_type": "stream",
     "text": [
      "This is a dry run\n"
     ]
    }
   ],
   "source": [
    "print(\"This is a dry run\")"
   ]
  },
  {
   "cell_type": "code",
   "execution_count": null,
   "id": "1bde9c41-e59d-4b7e-91bd-1491fd1f1ff3",
   "metadata": {},
   "outputs": [],
   "source": []
  }
 ],
 "metadata": {
  "kernelspec": {
   "display_name": "[pyplatformhivetest] Tenant Conda Environment",
   "language": "python",
   "name": "genieaz_pyplatformhivetest"
  },
  "language_info": {
   "codemirror_mode": {
    "name": "ipython",
    "version": 3
   },
   "file_extension": ".py",
   "mimetype": "text/x-python",
   "name": "python",
   "nbconvert_exporter": "python",
   "pygments_lexer": "ipython3",
   "version": "3.7.10"
  },
  "notebook_dict": {
   "ClassName": "o9.GraphCube.Plugins.Python.PythonScript",
   "InstanceName": "WalmartSamplePlugin",
   "SliceKeys": [],
   "file_path": "loaded_notebooks/WalmartSamplePlugin.ipynb",
   "o9_selected_plugin_id": 198891
  }
 },
 "nbformat": 4,
 "nbformat_minor": 5
}
